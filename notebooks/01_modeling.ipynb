{
 "cells": [
  {
   "cell_type": "markdown",
   "id": "487704d9",
   "metadata": {},
   "source": [
    "# 01 – Modeling Notebook\n",
    "Train models and inspect metrics."
   ]
  },
  {
   "cell_type": "code",
   "execution_count": null,
   "id": "6fef7722",
   "metadata": {},
   "outputs": [],
   "source": [
    "!python src/train.py --data data/customer_churn_dataset.csv --target Churn --outdir output"
   ]
  },
  {
   "cell_type": "code",
   "execution_count": null,
   "id": "46370acb",
   "metadata": {},
   "outputs": [],
   "source": [
    "import pandas as pd\n",
    "pd.read_json('output/metrics.json')"
   ]
  },
  {
   "cell_type": "code",
   "execution_count": null,
   "id": "726b4503",
   "metadata": {},
   "outputs": [],
   "source": [
    "pd.read_csv('output/feature_importance.csv').head()"
   ]
  }
 ],
 "metadata": {},
 "nbformat": 4,
 "nbformat_minor": 5
}
